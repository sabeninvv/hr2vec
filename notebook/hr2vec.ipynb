{
 "cells": [
  {
   "cell_type": "code",
   "execution_count": 1,
   "metadata": {
    "colab": {
     "base_uri": "https://localhost:8080/",
     "height": 119
    },
    "colab_type": "code",
    "id": "-w_ts7S0_mGP",
    "outputId": "509dcabc-19c4-40f2-bd20-298f87c3b70b"
   },
   "outputs": [
    {
     "name": "stdout",
     "output_type": "stream",
     "text": [
      "Cloning into 'hr2vec'...\n",
      "remote: Enumerating objects: 34, done.\u001b[K\n",
      "remote: Counting objects: 100% (34/34), done.\u001b[K\n",
      "remote: Compressing objects: 100% (24/24), done.\u001b[K\n",
      "remote: Total 34 (delta 11), reused 22 (delta 6), pack-reused 0\u001b[K\n",
      "Unpacking objects: 100% (34/34), done.\n"
     ]
    }
   ],
   "source": [
    "!git clone https://github.com/sabeninvv/hr2vec.git"
   ]
  },
  {
   "cell_type": "code",
   "execution_count": 2,
   "metadata": {
    "colab": {
     "base_uri": "https://localhost:8080/",
     "height": 34
    },
    "colab_type": "code",
    "id": "vAp4SVAj_pvS",
    "outputId": "3bb58a3d-7e43-4008-c587-6802c79cecc2"
   },
   "outputs": [
    {
     "name": "stdout",
     "output_type": "stream",
     "text": [
      "/content/hr2vec\n"
     ]
    }
   ],
   "source": [
    "cd hr2vec"
   ]
  },
  {
   "cell_type": "code",
   "execution_count": 3,
   "metadata": {
    "colab": {
     "base_uri": "https://localhost:8080/",
     "height": 34
    },
    "colab_type": "code",
    "id": "kcZu9bLODAyH",
    "outputId": "05a96e6e-f0a0-42df-bcbe-6f7a780b3618"
   },
   "outputs": [
    {
     "name": "stdout",
     "output_type": "stream",
     "text": [
      "Requirement already satisfied: numpy in /usr/local/lib/python3.6/dist-packages (1.18.5)\n"
     ]
    }
   ],
   "source": [
    "!pip3 install numpy"
   ]
  },
  {
   "cell_type": "code",
   "execution_count": 4,
   "metadata": {
    "colab": {
     "base_uri": "https://localhost:8080/",
     "height": 34
    },
    "colab_type": "code",
    "id": "cZ-1oqsBDDFV",
    "outputId": "f2ebf3d3-4060-4623-dcd4-e1d44a5f6083"
   },
   "outputs": [
    {
     "name": "stdout",
     "output_type": "stream",
     "text": [
      "Requirement already satisfied: tqdm in /usr/local/lib/python3.6/dist-packages (4.41.1)\n"
     ]
    }
   ],
   "source": [
    "!pip3 install tqdm"
   ]
  },
  {
   "cell_type": "code",
   "execution_count": 5,
   "metadata": {
    "colab": {
     "base_uri": "https://localhost:8080/",
     "height": 204
    },
    "colab_type": "code",
    "id": "5cKmjIfx_yRx",
    "outputId": "31153ee7-78b8-4c78-d8d0-ab491ba49aad"
   },
   "outputs": [
    {
     "name": "stdout",
     "output_type": "stream",
     "text": [
      "Looking in links: https://download.pytorch.org/whl/torch_stable.html\n",
      "Collecting torch==1.5.0+cpu\n",
      "\u001b[?25l  Downloading https://download.pytorch.org/whl/cpu/torch-1.5.0%2Bcpu-cp36-cp36m-linux_x86_64.whl (127.3MB)\n",
      "\u001b[K     |████████████████████████████████| 127.3MB 63kB/s \n",
      "\u001b[?25hRequirement already satisfied: future in /usr/local/lib/python3.6/dist-packages (from torch==1.5.0+cpu) (0.16.0)\n",
      "Requirement already satisfied: numpy in /usr/local/lib/python3.6/dist-packages (from torch==1.5.0+cpu) (1.18.5)\n",
      "Installing collected packages: torch\n",
      "  Found existing installation: torch 1.5.0+cu101\n",
      "    Uninstalling torch-1.5.0+cu101:\n",
      "      Successfully uninstalled torch-1.5.0+cu101\n",
      "Successfully installed torch-1.5.0+cpu\n"
     ]
    }
   ],
   "source": [
    "!pip3 install torch==1.5.0+cpu -f https://download.pytorch.org/whl/torch_stable.html"
   ]
  },
  {
   "cell_type": "code",
   "execution_count": 6,
   "metadata": {
    "colab": {
     "base_uri": "https://localhost:8080/",
     "height": 306
    },
    "colab_type": "code",
    "id": "p0H842_A_7Sq",
    "outputId": "a559cab2-a3fd-4d36-9a7c-9362c442fefe"
   },
   "outputs": [
    {
     "name": "stdout",
     "output_type": "stream",
     "text": [
      "Requirement already satisfied: gensim in /usr/local/lib/python3.6/dist-packages (3.6.0)\n",
      "Requirement already satisfied: six>=1.5.0 in /usr/local/lib/python3.6/dist-packages (from gensim) (1.12.0)\n",
      "Requirement already satisfied: numpy>=1.11.3 in /usr/local/lib/python3.6/dist-packages (from gensim) (1.18.5)\n",
      "Requirement already satisfied: scipy>=0.18.1 in /usr/local/lib/python3.6/dist-packages (from gensim) (1.4.1)\n",
      "Requirement already satisfied: smart-open>=1.2.1 in /usr/local/lib/python3.6/dist-packages (from gensim) (2.0.0)\n",
      "Requirement already satisfied: requests in /usr/local/lib/python3.6/dist-packages (from smart-open>=1.2.1->gensim) (2.23.0)\n",
      "Requirement already satisfied: boto3 in /usr/local/lib/python3.6/dist-packages (from smart-open>=1.2.1->gensim) (1.13.23)\n",
      "Requirement already satisfied: boto in /usr/local/lib/python3.6/dist-packages (from smart-open>=1.2.1->gensim) (2.49.0)\n",
      "Requirement already satisfied: idna<3,>=2.5 in /usr/local/lib/python3.6/dist-packages (from requests->smart-open>=1.2.1->gensim) (2.9)\n",
      "Requirement already satisfied: chardet<4,>=3.0.2 in /usr/local/lib/python3.6/dist-packages (from requests->smart-open>=1.2.1->gensim) (3.0.4)\n",
      "Requirement already satisfied: certifi>=2017.4.17 in /usr/local/lib/python3.6/dist-packages (from requests->smart-open>=1.2.1->gensim) (2020.4.5.1)\n",
      "Requirement already satisfied: urllib3!=1.25.0,!=1.25.1,<1.26,>=1.21.1 in /usr/local/lib/python3.6/dist-packages (from requests->smart-open>=1.2.1->gensim) (1.24.3)\n",
      "Requirement already satisfied: s3transfer<0.4.0,>=0.3.0 in /usr/local/lib/python3.6/dist-packages (from boto3->smart-open>=1.2.1->gensim) (0.3.3)\n",
      "Requirement already satisfied: jmespath<1.0.0,>=0.7.1 in /usr/local/lib/python3.6/dist-packages (from boto3->smart-open>=1.2.1->gensim) (0.10.0)\n",
      "Requirement already satisfied: botocore<1.17.0,>=1.16.23 in /usr/local/lib/python3.6/dist-packages (from boto3->smart-open>=1.2.1->gensim) (1.16.23)\n",
      "Requirement already satisfied: docutils<0.16,>=0.10 in /usr/local/lib/python3.6/dist-packages (from botocore<1.17.0,>=1.16.23->boto3->smart-open>=1.2.1->gensim) (0.15.2)\n",
      "Requirement already satisfied: python-dateutil<3.0.0,>=2.1 in /usr/local/lib/python3.6/dist-packages (from botocore<1.17.0,>=1.16.23->boto3->smart-open>=1.2.1->gensim) (2.8.1)\n"
     ]
    }
   ],
   "source": [
    "!pip3 install gensim"
   ]
  },
  {
   "cell_type": "code",
   "execution_count": 7,
   "metadata": {
    "colab": {
     "base_uri": "https://localhost:8080/",
     "height": 306
    },
    "colab_type": "code",
    "id": "VFBk3LeLALba",
    "outputId": "d8a79385-6398-46ea-ecfe-c24bfc03eb81"
   },
   "outputs": [
    {
     "name": "stdout",
     "output_type": "stream",
     "text": [
      "Collecting stanfordnlp\n",
      "\u001b[?25l  Downloading https://files.pythonhosted.org/packages/41/bf/5d2898febb6e993fcccd90484cba3c46353658511a41430012e901824e94/stanfordnlp-0.2.0-py3-none-any.whl (158kB)\n",
      "\u001b[K     |████████████████████████████████| 163kB 3.4MB/s eta 0:00:01\n",
      "\u001b[?25hRequirement already satisfied: protobuf in /usr/local/lib/python3.6/dist-packages (from stanfordnlp) (3.10.0)\n",
      "Requirement already satisfied: tqdm in /usr/local/lib/python3.6/dist-packages (from stanfordnlp) (4.41.1)\n",
      "Requirement already satisfied: torch>=1.0.0 in /usr/local/lib/python3.6/dist-packages (from stanfordnlp) (1.5.0+cpu)\n",
      "Requirement already satisfied: requests in /usr/local/lib/python3.6/dist-packages (from stanfordnlp) (2.23.0)\n",
      "Requirement already satisfied: numpy in /usr/local/lib/python3.6/dist-packages (from stanfordnlp) (1.18.5)\n",
      "Requirement already satisfied: setuptools in /usr/local/lib/python3.6/dist-packages (from protobuf->stanfordnlp) (47.1.1)\n",
      "Requirement already satisfied: six>=1.9 in /usr/local/lib/python3.6/dist-packages (from protobuf->stanfordnlp) (1.12.0)\n",
      "Requirement already satisfied: future in /usr/local/lib/python3.6/dist-packages (from torch>=1.0.0->stanfordnlp) (0.16.0)\n",
      "Requirement already satisfied: certifi>=2017.4.17 in /usr/local/lib/python3.6/dist-packages (from requests->stanfordnlp) (2020.4.5.1)\n",
      "Requirement already satisfied: chardet<4,>=3.0.2 in /usr/local/lib/python3.6/dist-packages (from requests->stanfordnlp) (3.0.4)\n",
      "Requirement already satisfied: idna<3,>=2.5 in /usr/local/lib/python3.6/dist-packages (from requests->stanfordnlp) (2.9)\n",
      "Requirement already satisfied: urllib3!=1.25.0,!=1.25.1,<1.26,>=1.21.1 in /usr/local/lib/python3.6/dist-packages (from requests->stanfordnlp) (1.24.3)\n",
      "Installing collected packages: stanfordnlp\n",
      "Successfully installed stanfordnlp-0.2.0\n"
     ]
    }
   ],
   "source": [
    "!pip3 install stanfordnlp"
   ]
  },
  {
   "cell_type": "code",
   "execution_count": 8,
   "metadata": {
    "colab": {
     "base_uri": "https://localhost:8080/",
     "height": 204
    },
    "colab_type": "code",
    "id": "dglWLS8yAZJT",
    "outputId": "6a03ad7e-4ed5-4423-82c5-3fcfc2ca2f8a"
   },
   "outputs": [
    {
     "name": "stdout",
     "output_type": "stream",
     "text": [
      "--2020-06-17 06:56:01--  https://conceptnet.s3.amazonaws.com/downloads/2019/numberbatch/numberbatch-en-19.08.txt.gz\n",
      "Resolving conceptnet.s3.amazonaws.com (conceptnet.s3.amazonaws.com)... 52.216.106.83\n",
      "Connecting to conceptnet.s3.amazonaws.com (conceptnet.s3.amazonaws.com)|52.216.106.83|:443... connected.\n",
      "HTTP request sent, awaiting response... 200 OK\n",
      "Length: 325403502 (310M) [application/x-gzip]\n",
      "Saving to: ‘/content/hr2vec/models/gensim/numberbatch-en-19.08.txt.gz’\n",
      "\n",
      "numberbatch-en-19.0 100%[===================>] 310.33M  86.5MB/s    in 3.7s    \n",
      "\n",
      "2020-06-17 06:56:05 (82.8 MB/s) - ‘/content/hr2vec/models/gensim/numberbatch-en-19.08.txt.gz’ saved [325403502/325403502]\n",
      "\n"
     ]
    }
   ],
   "source": [
    "!wget  -P /content/hr2vec/models/gensim/ \"https://conceptnet.s3.amazonaws.com/downloads/2019/numberbatch/numberbatch-en-19.08.txt.gz\""
   ]
  },
  {
   "cell_type": "code",
   "execution_count": 9,
   "metadata": {
    "colab": {
     "base_uri": "https://localhost:8080/",
     "height": 340
    },
    "colab_type": "code",
    "id": "4BMBHogiBGxL",
    "outputId": "78a1315a-749c-40a8-9b2d-7256aa7f85fa"
   },
   "outputs": [
    {
     "name": "stdout",
     "output_type": "stream",
     "text": [
      "--2020-06-17 06:56:06--  http://nlp.stanford.edu/software/stanfordnlp_models/0.2.0/en_ewt_models.zip\n",
      "Resolving nlp.stanford.edu (nlp.stanford.edu)... 171.64.67.140\n",
      "Connecting to nlp.stanford.edu (nlp.stanford.edu)|171.64.67.140|:80... connected.\n",
      "HTTP request sent, awaiting response... 302 Found\n",
      "Location: https://nlp.stanford.edu/software/stanfordnlp_models/0.2.0/en_ewt_models.zip [following]\n",
      "--2020-06-17 06:56:06--  https://nlp.stanford.edu/software/stanfordnlp_models/0.2.0/en_ewt_models.zip\n",
      "Connecting to nlp.stanford.edu (nlp.stanford.edu)|171.64.67.140|:443... connected.\n",
      "HTTP request sent, awaiting response... 301 MOVED PERMANENTLY\n",
      "Location: https://nlp.stanford.edu/software/stanfordnlp_models/0.2.0/en_ewt_models.zip/ [following]\n",
      "--2020-06-17 06:56:07--  https://nlp.stanford.edu/software/stanfordnlp_models/0.2.0/en_ewt_models.zip/\n",
      "Connecting to nlp.stanford.edu (nlp.stanford.edu)|171.64.67.140|:443... connected.\n",
      "HTTP request sent, awaiting response... 200 OK\n",
      "Length: 234898212 (224M) [application/zip]\n",
      "Saving to: ‘/content/hr2vec/models/stanfornlp/en_ewt_models.zip’\n",
      "\n",
      "en_ewt_models.zip   100%[===================>] 224.02M  61.7MB/s    in 5.1s    \n",
      "\n",
      "2020-06-17 06:56:12 (44.1 MB/s) - ‘/content/hr2vec/models/stanfornlp/en_ewt_models.zip’ saved [234898212/234898212]\n",
      "\n"
     ]
    }
   ],
   "source": [
    "!wget  -P /content/hr2vec/models/stanfornlp/ \"http://nlp.stanford.edu/software/stanfordnlp_models/0.2.0/en_ewt_models.zip\""
   ]
  },
  {
   "cell_type": "code",
   "execution_count": 10,
   "metadata": {
    "colab": {
     "base_uri": "https://localhost:8080/",
     "height": 119
    },
    "colab_type": "code",
    "id": "sVr7Nhj9BaTx",
    "outputId": "01babd70-1f2f-4976-ca67-27bfed600680"
   },
   "outputs": [
    {
     "name": "stdout",
     "output_type": "stream",
     "text": [
      "Archive:  /content/hr2vec/models/stanfornlp/en_ewt_models.zip\n",
      "  inflating: /content/hr2vec/models/stanfornlp/en_ewt_models/en_ewt_parser.pt  \n",
      "  inflating: /content/hr2vec/models/stanfornlp/en_ewt_models/en_ewt_tagger.pt  \n",
      "  inflating: /content/hr2vec/models/stanfornlp/en_ewt_models/en_ewt_tokenizer.pt  \n",
      "  inflating: /content/hr2vec/models/stanfornlp/en_ewt_models/en_ewt.pretrain.pt  \n",
      "  inflating: /content/hr2vec/models/stanfornlp/en_ewt_models/en_ewt_lemmatizer.pt  \n"
     ]
    }
   ],
   "source": [
    "!unzip /content/hr2vec/models/stanfornlp/en_ewt_models.zip -d /content/hr2vec/models/stanfornlp/"
   ]
  },
  {
   "cell_type": "code",
   "execution_count": null,
   "metadata": {
    "colab": {},
    "colab_type": "code",
    "id": "SVIzEaa-GmET"
   },
   "outputs": [],
   "source": [
    "# Upload /content/hr2vec/data/profile.txt\n",
    "# Upload /content/hr2vec/data/candidates.json"
   ]
  },
  {
   "cell_type": "code",
   "execution_count": 11,
   "metadata": {
    "colab": {
     "base_uri": "https://localhost:8080/",
     "height": 530
    },
    "colab_type": "code",
    "id": "kaz3zDnYABS5",
    "outputId": "f531e1e5-7921-4335-dd3b-64469addd1c7"
   },
   "outputs": [
    {
     "name": "stdout",
     "output_type": "stream",
     "text": [
      "Use device: cpu\n",
      "---\n",
      "Loading: tokenize\n",
      "With settings: \n",
      "{'model_path': 'models/stanfornlp/en_ewt_models/en_ewt_tokenizer.pt', 'lang': 'en', 'shorthand': 'en_ewt', 'mode': 'predict'}\n",
      "---\n",
      "Loading: pos\n",
      "With settings: \n",
      "{'model_path': 'models/stanfornlp/en_ewt_models/en_ewt_tagger.pt', 'pretrain_path': 'models/stanfornlp/en_ewt_models/en_ewt.pretrain.pt', 'batch_size': 1000, 'lang': 'en', 'shorthand': 'en_ewt', 'mode': 'predict'}\n",
      "---\n",
      "Loading: lemma\n",
      "With settings: \n",
      "{'model_path': 'models/stanfornlp/en_ewt_models/en_ewt_lemmatizer.pt', 'lang': 'en', 'shorthand': 'en_ewt', 'mode': 'predict'}\n",
      "Building an attentional Seq2Seq model...\n",
      "Using a Bi-LSTM encoder\n",
      "Using soft attention for LSTM.\n",
      "Finetune all embeddings.\n",
      "[Running seq2seq lemmatizer with edit classifier]\n",
      "---\n",
      "Loading: depparse\n",
      "With settings: \n",
      "{'model_path': 'models/stanfornlp/en_ewt_models/en_ewt_parser.pt', 'pretrain_path': 'models/stanfornlp/en_ewt_models/en_ewt.pretrain.pt', 'lang': 'en', 'shorthand': 'en_ewt', 'mode': 'predict'}\n",
      "Done loading processors!\n",
      "---\n",
      "Loading Gensim Model. Wait 10-15 minutes\n",
      "Done loading Gensim Model!\n",
      "---\n",
      "100% 1043/1043 [18:52<00:00,  1.09s/it]\n",
      "Done Saving successful!\n"
     ]
    }
   ],
   "source": [
    "!python main.py"
   ]
  },
  {
   "cell_type": "code",
   "execution_count": 6,
   "metadata": {},
   "outputs": [],
   "source": [
    "import pandas as pd\n",
    "df = pd.read_csv('data/sorted_candidates.csv', sep='|', index_col=0)"
   ]
  },
  {
   "cell_type": "code",
   "execution_count": 7,
   "metadata": {},
   "outputs": [
    {
     "data": {
      "text/html": [
       "<div>\n",
       "<style scoped>\n",
       "    .dataframe tbody tr th:only-of-type {\n",
       "        vertical-align: middle;\n",
       "    }\n",
       "\n",
       "    .dataframe tbody tr th {\n",
       "        vertical-align: top;\n",
       "    }\n",
       "\n",
       "    .dataframe thead th {\n",
       "        text-align: right;\n",
       "    }\n",
       "</style>\n",
       "<table border=\"1\" class=\"dataframe\">\n",
       "  <thead>\n",
       "    <tr style=\"text-align: right;\">\n",
       "      <th></th>\n",
       "      <th>First Name</th>\n",
       "      <th>Last Name</th>\n",
       "      <th>Title</th>\n",
       "      <th>Company Name</th>\n",
       "      <th>LinkedIn</th>\n",
       "      <th>Score</th>\n",
       "    </tr>\n",
       "  </thead>\n",
       "  <tbody>\n",
       "    <tr>\n",
       "      <th>0</th>\n",
       "      <td>Jackson</td>\n",
       "      <td>Yap</td>\n",
       "      <td>Sales And Leasing Consultant</td>\n",
       "      <td>Far East Organization</td>\n",
       "      <td>https://www.linkedin.com/in/jacksonyapyaoliang</td>\n",
       "      <td>76.2</td>\n",
       "    </tr>\n",
       "    <tr>\n",
       "      <th>1</th>\n",
       "      <td>Kennedy</td>\n",
       "      <td>TANG</td>\n",
       "      <td>Business Development Manager</td>\n",
       "      <td>CAESAR SHIPPING SERVICES PTE LTD</td>\n",
       "      <td>NaN</td>\n",
       "      <td>74.1</td>\n",
       "    </tr>\n",
       "    <tr>\n",
       "      <th>2</th>\n",
       "      <td>Jie Sheng</td>\n",
       "      <td>Yong</td>\n",
       "      <td>Business Development Manager</td>\n",
       "      <td>Yao Yang Global</td>\n",
       "      <td>https://www.linkedin.com/in/jie-sheng-yong-973...</td>\n",
       "      <td>73.8</td>\n",
       "    </tr>\n",
       "    <tr>\n",
       "      <th>3</th>\n",
       "      <td>Wan Yoke</td>\n",
       "      <td>So</td>\n",
       "      <td>Senior Analyst (Sales Effectiveness &amp; Business...</td>\n",
       "      <td>APL</td>\n",
       "      <td>https://www.linkedin.com/in/wan-yoke-so-37199745</td>\n",
       "      <td>72.3</td>\n",
       "    </tr>\n",
       "    <tr>\n",
       "      <th>4</th>\n",
       "      <td>Liza</td>\n",
       "      <td>Solana</td>\n",
       "      <td>Sales Support Executive/Procurement</td>\n",
       "      <td>SciMed (Asia)</td>\n",
       "      <td>https://www.linkedin.com/in/liza-solana-32b1529</td>\n",
       "      <td>71.8</td>\n",
       "    </tr>\n",
       "  </tbody>\n",
       "</table>\n",
       "</div>"
      ],
      "text/plain": [
       "  First Name Last Name                                              Title  \\\n",
       "0    Jackson       Yap                       Sales And Leasing Consultant   \n",
       "1    Kennedy      TANG                       Business Development Manager   \n",
       "2  Jie Sheng      Yong                       Business Development Manager   \n",
       "3   Wan Yoke        So  Senior Analyst (Sales Effectiveness & Business...   \n",
       "4       Liza    Solana                Sales Support Executive/Procurement   \n",
       "\n",
       "                       Company Name  \\\n",
       "0             Far East Organization   \n",
       "1  CAESAR SHIPPING SERVICES PTE LTD   \n",
       "2                   Yao Yang Global   \n",
       "3                               APL   \n",
       "4                     SciMed (Asia)   \n",
       "\n",
       "                                            LinkedIn  Score  \n",
       "0     https://www.linkedin.com/in/jacksonyapyaoliang   76.2  \n",
       "1                                                NaN   74.1  \n",
       "2  https://www.linkedin.com/in/jie-sheng-yong-973...   73.8  \n",
       "3   https://www.linkedin.com/in/wan-yoke-so-37199745   72.3  \n",
       "4    https://www.linkedin.com/in/liza-solana-32b1529   71.8  "
      ]
     },
     "execution_count": 7,
     "metadata": {},
     "output_type": "execute_result"
    }
   ],
   "source": [
    "df.head()"
   ]
  },
  {
   "cell_type": "code",
   "execution_count": null,
   "metadata": {
    "colab": {},
    "colab_type": "code",
    "id": "nhKtXROTB3W1"
   },
   "outputs": [],
   "source": [
    "import json\n",
    "with open(r'/content/hr2vec/data/sorted_candidates.json', mode='r', encoding='utf8') as f:\n",
    "    data = json.load(f)"
   ]
  },
  {
   "cell_type": "code",
   "execution_count": 14,
   "metadata": {
    "colab": {
     "base_uri": "https://localhost:8080/",
     "height": 1000
    },
    "colab_type": "code",
    "id": "1QN-5Q5yKJF8",
    "outputId": "b0697ea5-45b0-4316-87bd-ab008831fda1"
   },
   "outputs": [
    {
     "data": {
      "text/plain": [
       "{'awards': [],\n",
       " 'coursesTaken': [],\n",
       " 'education': [{'degree': \"Bachelor's degree\",\n",
       "   'endedOn': {'year': 2019},\n",
       "   'fieldsOfStudy': ['Bachelor of Arts (Hons.) in Accounting and Finance'],\n",
       "   'schoolName': 'University of Derby',\n",
       "   'startedOn': {'year': 2018}}],\n",
       " 'emails': None,\n",
       " 'firstName': 'Jackson',\n",
       " 'headline': 'Sales & Leasing Consultant at Far East Organization',\n",
       " 'id': '2e32169a-6f6c-4c88-8ced-5630f31a3edf',\n",
       " 'industry': 'Real Estate',\n",
       " 'languages': [],\n",
       " 'lastName': 'Yap',\n",
       " 'linkedinPremium': False,\n",
       " 'location': 'Singapore',\n",
       " 'memberships': [],\n",
       " 'phoneNumbers': None,\n",
       " 'skills': [{'name': 'Account Management', 'numOfEndorsement': 1},\n",
       "  {'name': 'Business Development', 'numOfEndorsement': 1},\n",
       "  {'name': 'Canvassing', 'numOfEndorsement': 1},\n",
       "  {'name': 'Sales', 'numOfEndorsement': 0},\n",
       "  {'name': 'Key Account Management', 'numOfEndorsement': 0},\n",
       "  {'name': 'Telecommunications', 'numOfEndorsement': 0},\n",
       "  {'name': 'Business Planning', 'numOfEndorsement': 0},\n",
       "  {'name': 'Interpersonal Skills', 'numOfEndorsement': 0},\n",
       "  {'name': 'AutoCAD', 'numOfEndorsement': 0},\n",
       "  {'name': 'Entrepreneurship', 'numOfEndorsement': 0},\n",
       "  {'name': 'Operations Management', 'numOfEndorsement': 0},\n",
       "  {'name': 'Project Management', 'numOfEndorsement': 0},\n",
       "  {'name': 'Management', 'numOfEndorsement': 0},\n",
       "  {'name': 'Business Strategy', 'numOfEndorsement': 0},\n",
       "  {'name': 'Partnerships', 'numOfEndorsement': 0},\n",
       "  {'name': 'Business Management', 'numOfEndorsement': 0},\n",
       "  {'name': 'Team Management', 'numOfEndorsement': 0},\n",
       "  {'name': 'Cold Calling', 'numOfEndorsement': 0},\n",
       "  {'name': 'Sales Management', 'numOfEndorsement': 0},\n",
       "  {'name': 'Direct Sales', 'numOfEndorsement': 0},\n",
       "  {'name': 'Hiring', 'numOfEndorsement': 0},\n",
       "  {'name': 'Business-to-Business (B2B)', 'numOfEndorsement': 0},\n",
       "  {'name': 'Sales Presentations', 'numOfEndorsement': 0},\n",
       "  {'name': 'Presentation Skills', 'numOfEndorsement': 0},\n",
       "  {'name': 'Training & Development', 'numOfEndorsement': 0},\n",
       "  {'name': 'Sales Process', 'numOfEndorsement': 0},\n",
       "  {'name': 'Success Driven', 'numOfEndorsement': 0},\n",
       "  {'name': 'Leadership', 'numOfEndorsement': 0},\n",
       "  {'name': 'Communication', 'numOfEndorsement': 0},\n",
       "  {'name': 'Solution Selling', 'numOfEndorsement': 0},\n",
       "  {'name': 'Value Based Selling', 'numOfEndorsement': 0},\n",
       "  {'name': 'Negotiation', 'numOfEndorsement': 0}],\n",
       " 'socialAccounts': [{'linkedin': 'https://www.linkedin.com/in/jacksonyapyaoliang'}],\n",
       " 'summary': \"Jackson had been in Sales and Business Development position across varied industries. \\n\\nHis Philosophies:\\n\\n1) Education does not determine a personâ€™s capability\\n2) Knowledge is power. Could be just an information without execution.\\n3) That how you do anything is how you do everything\\n4) Every prize, there's a price tag\\n5) The duration of a person experience does not define a person's capability\",\n",
       " 'websites': None,\n",
       " 'workExperience': [{'companyName': 'Far East Organization',\n",
       "   'companyUrn': 'urn:li:fs_salesCompany:34169',\n",
       "   'location': 'Singapore',\n",
       "   'startedOn': {'month': 9, 'year': 2019},\n",
       "   'title': 'Sales And Leasing Consultant'},\n",
       "  {'companyName': 'JLOrganisation',\n",
       "   'description': 'Interview & Hiring\\nPlanning and managing recruitment drives, including university career fairs and public career fairs\\nManaging the end to end recruitment processes, pipelining of relevant talent\\nBusiness Development & Business Collaboration â€“ B2B\\nDevelop innovative sourcing methods and recruitment channels to identify suitable candidates\\nIdentify new leads and potential new markets\\nIdentifying opportunities for new business development through following up and conducting research demographic audience\\nMarketing | Events & Seminar\\nSales, Back-end & Office Supports\\nDrafting of Design & Sales Deck\\n',\n",
       "   'endedOn': {'month': 4, 'year': 2019},\n",
       "   'startedOn': {'month': 3, 'year': 2017},\n",
       "   'title': 'HR & Business Development Manager'},\n",
       "  {'companyName': 'Ready Delivery Pte Ltd',\n",
       "   'description': 'A small delivery company started up with a partner',\n",
       "   'endedOn': {'month': 6, 'year': 2017},\n",
       "   'startedOn': {'month': 8, 'year': 2016},\n",
       "   'title': 'Business Development Director'},\n",
       "  {'companyName': 'Web Imp',\n",
       "   'companyUrn': 'urn:li:fs_salesCompany:3695290',\n",
       "   'description': 'â€¢\\tTechnology Hub - Website, web app, mobile app, customize software (accounting system, CRM, HRM, inventory system to full set of ERP system) to clientsâ€™ needs\\nâ€¢\\tGlome POS Bug Testing\\nâ€¢\\tConducting research to identify new markets and businesses needs\\nâ€¢\\tBusiness Development for Glome Project\\nâ€¢\\tIdentify customer needs, price and analysis, prepare technical proposals\\nâ€¢\\tGenerated leads and prospect clients\\nâ€¢\\tArticulate clientsâ€™ product messaging; identify prospectsâ€™ needs, collect business data, and qualify accounts.\\nâ€¢\\tIdentified \"bottlenecks\" and implemented new and improved processes and policies\\n',\n",
       "   'endedOn': {'month': 5, 'year': 2017},\n",
       "   'startedOn': {'month': 5, 'year': 2016},\n",
       "   'title': 'Business Development / Managing Partner'},\n",
       "  {'companyName': 'Asia Access Telecom Pte Ltd',\n",
       "   'companyUrn': 'urn:li:fs_salesCompany:6587306',\n",
       "   'description': 'â€¢\\tReporting to BDD for sales, marketing related weekly.\\nâ€¢\\tBusiness/Partnership Collaboration\\nâ€¢\\tTelstra / PCCW / COLT/ VCube Partnership Solutions: Familiar with Data Connectivity, Cloud, Data Center \\nâ€¢\\tFamiliar with Cisco Unified Communications, Avaya, PBX programming through partners\\nâ€¢\\tAccount Management - Manage house accounts and maintain strong corporate/business relationships while increasing customer usage\\nâ€¢\\tAcquisition of new account and businesses for the company - B2B & B2C\\nâ€¢\\tManage and monitoring the new and existing business/customer performance and service usage\\nâ€¢\\tMaintain a healthy pipeline discipline, accuracy in forecasting and seize customer opportunity management\\nâ€¢\\tHandle new accounts, re-activation of terminated accounts, retention and key account management\\nâ€¢\\tHandle Key Accounts of Shipping, Offshore, Logistic, Marine and MNC industry\\nâ€¢\\tBuild a strong business relationship from non-executive positions to C level and high-level contacts\\nâ€¢\\tEnsure profitable business indicators is met and increase revenue growth\\nâ€¢\\tStrategic rate planning and implementation without sacrificing the premium quality service\\nâ€¢\\tInternational Maritime Satellite (INMARSAT) Solutions / VOIP Solutions / VSAT Solutions / Voice Solutions / SIP Trunk / - Buzzlah Mobile Application\\n',\n",
       "   'endedOn': {'month': 6, 'year': 2016},\n",
       "   'startedOn': {'month': 9, 'year': 2015},\n",
       "   'title': 'Business Development Manager'},\n",
       "  {'companyName': 'Fuji Xerox Singapore - Strategic Netbiz (Authorised Fuji Xerox Reseller)',\n",
       "   'description': 'â€¢\\tGenerate sales-ready opportunities via outbound B2B telephone calls\\nâ€¢\\tProduct demonstrations & product training to clients\\nâ€¢\\tPreparing proposal, invoice, quotation, sale order and documentation\\nâ€¢\\tB2B - Direct Sales, Canvassing & Appointment & Road Show\\nâ€¢\\tBackend finance documents handling, leasing contract and agreement\\nâ€¢\\tMentoring junior sales representative\\n',\n",
       "   'endedOn': {'month': 2, 'year': 2015},\n",
       "   'location': 'Burn Road',\n",
       "   'startedOn': {'month': 12, 'year': 2013},\n",
       "   'title': 'Document Solutions Executive'}]}"
      ]
     },
     "execution_count": 14,
     "metadata": {
      "tags": []
     },
     "output_type": "execute_result"
    }
   ],
   "source": [
    "data[0]"
   ]
  }
 ],
 "metadata": {
  "colab": {
   "collapsed_sections": [],
   "name": "hr2vec.ipynb",
   "provenance": []
  },
  "kernelspec": {
   "display_name": "Python 3",
   "language": "python",
   "name": "python3"
  },
  "language_info": {
   "codemirror_mode": {
    "name": "ipython",
    "version": 3
   },
   "file_extension": ".py",
   "mimetype": "text/x-python",
   "name": "python",
   "nbconvert_exporter": "python",
   "pygments_lexer": "ipython3",
   "version": "3.7.7"
  }
 },
 "nbformat": 4,
 "nbformat_minor": 4
}
